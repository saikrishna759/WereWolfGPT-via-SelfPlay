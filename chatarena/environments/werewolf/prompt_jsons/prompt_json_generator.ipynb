{
 "cells": [
  {
   "cell_type": "code",
   "execution_count": 26,
   "metadata": {},
   "outputs": [],
   "source": [
    "import json"
   ]
  },
  {
   "cell_type": "code",
   "execution_count": 27,
   "metadata": {},
   "outputs": [],
   "source": [
    "# Prompt + agent_name\n",
    "rules_prompt = \"\"\"You are playing a game called the Werewolf with some other players. This game is based on text conversations. Here are\n",
    "the game rules: Roles: The moderator is also host, he organised this game and you need to answer his instructions correctly.\n",
    "Don't talk with the moderator. There are five roles in the game, werewolf, villager, seer, guard and witch. There are two\n",
    "alternate phases in this game, daytime and dark. When it's dark: Your talking content with moderator is confidential. You\n",
    "needn't worry about other players and moderator knowing what you say and do. No need to worry about suspicions from\n",
    "others during the night. If you are werewolf, you can know what your teammates want to kill and you should vote one player\n",
    "to kill based on your analysis. Player who receives the most votes after all werewolves voting will be killed. No one will be\n",
    "killed if there is no consensus! If you are witch, you have a bottle of antidote that can save a player targeted by werewolves\n",
    "after dark, and a bottle of poison that can poison a player after dark. Both poison and antidote can be used only once. If you\n",
    "are seer, you can verify whether a player is a werewolf every night, which is a very important thing. If you are guard, you\n",
    "can protect a player every night to prevent the player from being killed by werewolves, but guard cannot resist the witch's\n",
    "poison and guard cannot protect the same player on two consecutive nights. Villagers can't do anything at night. During the\n",
    "daytime: you discuss with all players including your enemies. At the end of the discussion, players vote to eliminate one\n",
    "player they suspect of being a werewolf. The player with the most votes will be eliminated. The moderator will tell who is\n",
    "killed, otherwise there is no one killed. Note that villager, seer, guard and witch are all in villager side, they have the same\n",
    "objective. Objectives: If you are werewolf, your goal is to cooperate with other werewolves to kill all players who are not\n",
    "werewolves at last. If you are not werewolf, you need to kill all werewolves with your partner once you find out that certain\n",
    "players are suspicious to be werewolves. This could greatly improve your chances of winning, although it is somewhat risky.If\n",
    "one player is killed, he can't do anything anymore and will be out of the game. Tips: To complete the objective: During\n",
    "night, you should analyze and use your ability correctly. During daytime, you need to reason carefully about the roles of other\n",
    "players and be careful not to reveal your own role casually unless you're cheating other players. Only give the player's name\n",
    "when making a decision/voting, and don't generate other players' conversation.Reasoning based on facts you have observed\n",
    "and you cannot perceive information (such as acoustic info) other than text. \n",
    "You're playing with 6 other players. Do not pretend you are other players or the moderator. Always end your response with\n",
    "'<EOS>'. You are Player: \"\"\""
   ]
  },
  {
   "cell_type": "code",
   "execution_count": 28,
   "metadata": {},
   "outputs": [],
   "source": [
    "#For this we require the game to fill in who is the werewolf who are living, valid players. \n",
    "#Werewolfs + prompt\n",
    "initial_werewolf_prompt = \"\"\"Werewolves, please open your eyes! I secrecly tell you that Player 1, Player 2 are all of\n",
    "the 2 werewolves! Keep in mind you are teammates. The rest players are not werewolves.\"\"\""
   ]
  },
  {
   "cell_type": "code",
   "execution_count": 29,
   "metadata": {},
   "outputs": [],
   "source": [
    "day_start_prompt = \"\"\"The sun rose. Everyone woke up except those who had been killed.\"\"\"\n",
    "day_discuss_prompt = \"\"\"Now freely talk about roles of other players with each other based on your observation and reflection with\n",
    "few sentences. Decide whether to reveal your identity based on your reflection. \"\"\""
   ]
  },
  {
   "cell_type": "code",
   "execution_count": 30,
   "metadata": {},
   "outputs": [],
   "source": [
    "#player name + prompt + [living players + pass]\n",
    "day_vote_prompt = \"\"\" are asked to choose which of the players should be voted for killing based on the\n",
    "discussion? Don't mention your role. For example: I vote to kill Player... You can only choose one from the following living options please: \"\"\""
   ]
  },
  {
   "cell_type": "code",
   "execution_count": 31,
   "metadata": {},
   "outputs": [],
   "source": [
    "first_night_prompt = \"\"\"It's dark, everyone close your eyes. I will talk with you/your team secretly at night.\"\"\"\n",
    "# This is a slight diversion from Xu et.al because we have both a discussion and a voting phase at night. \n",
    "night_discuss_prompt = \"\"\" Werewolves, please open your eyes! Now discuss with your teammates which of the\n",
    "players should be killed tonight. \"\"\""
   ]
  },
  {
   "cell_type": "code",
   "execution_count": 32,
   "metadata": {},
   "outputs": [],
   "source": [
    "#Prompts for votes to perform night actions. \n",
    "\n",
    "#Werewolf names + prompt + [living townsfolk + pass].\n",
    "# This is a slight diversion from Xu et.al because we have both a discussion and a voting phase at night. \n",
    "night_vote_prompt_werewolf = \"\"\" I secretly tell you that you are all of the 2 werewolves! Keep in mind you are teammates. The rest players are not werewolves. \n",
    "Please vote which of the players should be killed tonight. You only choose one from the following living options please: \"\"\"\n",
    "#Guard name + prompt + [living players + pass].\n",
    "night_vote_prompt_guard = \"\"\"You guard, please open your eyes! Now tell me who you protect tonight? You only\n",
    "choose one from the following living options please: \"\"\"\n",
    "#Witch name + prompt + [living players + pass - witch name].\n",
    "night_vote_prompt_witch = \"\"\" You witch, please open your eyes! You have a bottle of poison, who are you going to kill\n",
    "tonight? Choose one from the following living options: \"\"\"\n",
    "#Seer name + prompt + [living players + pass - Seer name].\n",
    "night_vote_prompt_seer = \"\"\" You seer, please open your eyes! Who are you going to verify its identity tonight?\n",
    "Choose only one from the following living options: \"\"\""
   ]
  },
  {
   "cell_type": "code",
   "execution_count": 33,
   "metadata": {},
   "outputs": [],
   "source": [
    "werewolf_prompt = \"You are werewolf!\"\n",
    "townsfolk_prompt = \"You are villager!\"\n",
    "seer_prompt = \"You are seer!\"\n",
    "guard_prompt = \"You are guard!\"\n",
    "witch_prompt = \"You are witch!\"\n",
    "#One game mode had an additional hunter roll not in Xu et.al\n",
    "hunter_prompt = \"You are villager!\""
   ]
  },
  {
   "cell_type": "code",
   "execution_count": 34,
   "metadata": {},
   "outputs": [],
   "source": [
    "#player name + prompt\n",
    "seer_werewolf_prompt =  \" is a werewolf!\"\n",
    "seer_townsfolk_prompt = \" is a villager!\"\n",
    "seer_seer_prompt = \" is a seer!\"\n",
    "seer_guard_prompt = \" is a guard!\"\n",
    "seer_witch_prompt = \" is a witch!\"\n",
    "seer_hunter_prompt = \" is a villager!\""
   ]
  },
  {
   "cell_type": "code",
   "execution_count": 35,
   "metadata": {},
   "outputs": [],
   "source": [
    "#List of dead + prompt\n",
    "who_died = \" died last night!\"\n",
    "nobody_died = \"It was a peaceful night and no one died!\""
   ]
  },
  {
   "cell_type": "code",
   "execution_count": 36,
   "metadata": {},
   "outputs": [],
   "source": [
    "#Now to make the Json itself. \n",
    "dict_for_json = {\n",
    "    \"rules_prompt\":rules_prompt,\n",
    "    \"initial_werewolf_prompt\":initial_werewolf_prompt,\n",
    "    \"day_start_prompt\":day_start_prompt,\n",
    "    \"day_discuss_prompt\":day_discuss_prompt,\n",
    "    \"day_vote_prompt\":day_vote_prompt,\n",
    "    \"first_night_prompt\":first_night_prompt,\n",
    "    \"night_discuss_prompt\":night_discuss_prompt,\n",
    "    \"night_vote_prompt_werewolf\":night_vote_prompt_werewolf,\n",
    "    \"night_vote_prompt_guard\":night_vote_prompt_guard,\n",
    "    \"night_vote_prompt_witch\":night_vote_prompt_witch,\n",
    "    \"night_vote_prompt_seer\":night_vote_prompt_seer,\n",
    "    \"werewolf_prompt\":werewolf_prompt,\n",
    "    \"townsfolk_prompt\":townsfolk_prompt,\n",
    "    \"seer_prompt\":seer_prompt,\n",
    "    \"guard_prompt\":guard_prompt,\n",
    "    \"witch_prompt\":witch_prompt,\n",
    "    \"hunter_prompt\":hunter_prompt,\n",
    "    \"seer_werewolf_prompt\":seer_werewolf_prompt,\n",
    "    \"seer_townsfolk_prompt\":seer_townsfolk_prompt,\n",
    "    \"seer_seer_prompt\":seer_seer_prompt,\n",
    "    \"seer_guard_prompt\":seer_guard_prompt,\n",
    "    \"seer_witch_prompt\":seer_witch_prompt,\n",
    "    \"seer_hunter_prompt\":seer_hunter_prompt,\n",
    "    \"who_died\":who_died,\n",
    "    \"nobody_died\":nobody_died\n",
    "}"
   ]
  },
  {
   "cell_type": "code",
   "execution_count": 37,
   "metadata": {},
   "outputs": [],
   "source": [
    "with open(\"new_prompt.json\", \"w\") as outfile: \n",
    "    json.dump(dict_for_json, outfile)"
   ]
  }
 ],
 "metadata": {
  "kernelspec": {
   "display_name": "Python 3",
   "language": "python",
   "name": "python3"
  },
  "language_info": {
   "codemirror_mode": {
    "name": "ipython",
    "version": 3
   },
   "file_extension": ".py",
   "mimetype": "text/x-python",
   "name": "python",
   "nbconvert_exporter": "python",
   "pygments_lexer": "ipython3",
   "version": "3.11.9"
  }
 },
 "nbformat": 4,
 "nbformat_minor": 2
}
